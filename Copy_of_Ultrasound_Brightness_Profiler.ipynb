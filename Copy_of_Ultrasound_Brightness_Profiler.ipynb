{
  "nbformat": 4,
  "nbformat_minor": 0,
  "metadata": {
    "colab": {
      "name": "Copy of Ultrasound_Brightness_Profiler.ipynb",
      "provenance": [],
      "collapsed_sections": [],
      "authorship_tag": "ABX9TyPL1Ru9PNDA8Fe1MjAOM12l",
      "include_colab_link": true
    },
    "kernelspec": {
      "name": "python3",
      "display_name": "Python 3"
    }
  },
  "cells": [
    {
      "cell_type": "markdown",
      "metadata": {
        "id": "view-in-github",
        "colab_type": "text"
      },
      "source": [
        "<a href=\"https://colab.research.google.com/github/rjthompson22/MBSUS/blob/main/Copy_of_Ultrasound_Brightness_Profiler.ipynb\" target=\"_parent\"><img src=\"https://colab.research.google.com/assets/colab-badge.svg\" alt=\"Open In Colab\"/></a>"
      ]
    },
    {
      "cell_type": "code",
      "metadata": {
        "colab": {
          "base_uri": "https://localhost:8080/"
        },
        "id": "wXi6zcRrPo8c",
        "outputId": "d00bbaac-897c-48d7-eb0c-58a2b6b1dc92"
      },
      "source": [
        "#Libraries to interact with google drive\r\n",
        "from pydrive.auth import GoogleAuth\r\n",
        "from pydrive.drive import GoogleDrive\r\n",
        "from google.colab import auth\r\n",
        "from oauth2client.client import GoogleCredentials\r\n",
        "from google.colab import drive\r\n",
        "\r\n",
        "\r\n",
        "#Libraries to get Brightness Profiles\r\n",
        "import os\r\n",
        "import cv2\r\n",
        "import numpy as np\r\n",
        "import pandas as pd\r\n",
        "\r\n",
        "print(\"Complete\")"
      ],
      "execution_count": null,
      "outputs": [
        {
          "output_type": "stream",
          "text": [
            "Complete\n"
          ],
          "name": "stdout"
        }
      ]
    },
    {
      "cell_type": "code",
      "metadata": {
        "colab": {
          "base_uri": "https://localhost:8080/"
        },
        "id": "-_poPbTFTrNm",
        "outputId": "ecc35569-b82d-4602-af8d-32a9b7bb6f1c"
      },
      "source": [
        "from google.colab import drive\r\n",
        "drive.mount('/content/gdrive')\r\n",
        "print(\"Complete\")"
      ],
      "execution_count": null,
      "outputs": [
        {
          "output_type": "stream",
          "text": [
            "Mounted at /content/gdrive\n",
            "Complete\n"
          ],
          "name": "stdout"
        }
      ]
    },
    {
      "cell_type": "code",
      "metadata": {
        "colab": {
          "base_uri": "https://localhost:8080/"
        },
        "id": "9hbFCobWcdHc",
        "outputId": "f27f53f6-6c4a-4052-ecd2-738ed2c23d76"
      },
      "source": [
        "in_dir = '/content/gdrive/My Drive/MBSUS/Videos To Be Analyzed'\r\n",
        "out_dir = '/content/gdrive/My Drive/MBSUS/Brightness Profile Analyses'\r\n",
        "frame_dir = out_dir + \"/Video Frames\"\r\n",
        "print(\"Complete\")"
      ],
      "execution_count": null,
      "outputs": [
        {
          "output_type": "stream",
          "text": [
            "Complete\n"
          ],
          "name": "stdout"
        }
      ]
    },
    {
      "cell_type": "markdown",
      "metadata": {
        "id": "r4UzsE65Of-P"
      },
      "source": [
        "# Convert Video into Frames"
      ]
    },
    {
      "cell_type": "code",
      "metadata": {
        "colab": {
          "base_uri": "https://localhost:8080/"
        },
        "id": "aulWpDxZamc5",
        "outputId": "68307166-ac89-4c0d-c235-0e7e256609aa"
      },
      "source": [
        "%cd /content/gdrive/My Drive/MBSUS/Brightness Profile Analyses/Video Frames\r\n",
        "\r\n",
        "for vid in os.listdir(in_dir):\r\n",
        "  #print(str(vid)[:-4])\r\n",
        "  vidObj = cv2.VideoCapture(in_dir +\"/\"+ vid) \r\n",
        "  time_stamp = vidObj.get(cv2.CAP_PROP_POS_MSEC)\r\n",
        "\t# Used as counter variable \r\n",
        "  count = 0\r\n",
        "\r\n",
        "\t# checks whether frames were extracted \r\n",
        "  success = 1\r\n",
        "\r\n",
        "  while success: \r\n",
        "\r\n",
        "\t\t# vidObj object calls read \r\n",
        "\t\t# function extract frames \r\n",
        "    success, image = vidObj.read() \r\n",
        "\r\n",
        "\t\t# Saves the frames with frame-count \r\n",
        "    if success != 1: break\r\n",
        "        \r\n",
        "    cv2.imwrite(str(vid)[:-4] + \"_frame%d.jpg\" % count, image)\r\n",
        "\r\n",
        "    count += 1\r\n",
        "        \r\n",
        "  vidObj.release()\r\n",
        "  cv2.destroyAllWindows()\r\n",
        "\r\n",
        "  print(\"Complete\")"
      ],
      "execution_count": null,
      "outputs": [
        {
          "output_type": "stream",
          "text": [
            "/content/gdrive/My Drive/MBSUS/Brightness Profile Analyses/Video Frames\n",
            "P03-3-RLT\n",
            "Complete\n"
          ],
          "name": "stdout"
        }
      ]
    },
    {
      "cell_type": "markdown",
      "metadata": {
        "id": "LQO75mSlOmhA"
      },
      "source": [
        "# Create Brightness Profiles of Video Frames"
      ]
    },
    {
      "cell_type": "code",
      "metadata": {
        "id": "nlbMvW4zUYmi"
      },
      "source": [
        "import matplotlib.pyplot as plt\r\n",
        "plt.close(\"all\")\r\n",
        "\r\n",
        "shape0 = 500\r\n",
        "\r\n",
        "for file in os.listdir(frame_dir):\r\n",
        "    fn = os.path.join(frame_dir, file)\r\n",
        "    im = cv2.imread(fn)\r\n",
        "    rrate = im.shape[0] / shape0\r\n",
        "    shape1 = int(im.shape[1] / rrate)\r\n",
        "    im = cv2.resize(im, (shape1, 500))\r\n",
        "    im = cv2.cvtColor(im, cv2.COLOR_RGB2GRAY)\r\n",
        "\r\n",
        "    out_shape0 = im.shape[0]\r\n",
        "    out_shape1 = (im.shape[1] - 60) // 10\r\n",
        "    if out_shape1 * 10 + 60 < im.shape[1]:\r\n",
        "        out_shape1 += 1\r\n",
        "\r\n",
        "    out = np.zeros((out_shape0, out_shape1))\r\n",
        "    for r in range(out_shape0):\r\n",
        "        for i in range(out_shape1):\r\n",
        "            ret = np.mean(im[r, 40 + i * 10: 50 + i * 10])\r\n",
        "            out[r, i] = ret\r\n",
        "\r\n",
        "    im = cv2.cvtColor(im, cv2.COLOR_GRAY2RGB)\r\n",
        "    for i in range(out_shape1):\r\n",
        "      i *= 10\r\n",
        "\r\n",
        "      #Add Lines\r\n",
        "      cv2.line(im, (i+40, 0), (i+40, shape0), (0, 255, 255), 1)\r\n",
        "      cv2.line(im, (i+50, 0), (i+50, shape0), (0, 255, 255), 1)\r\n",
        "\r\n",
        "      #Save changes\r\n",
        "      #cv2.imwrite(str(file), im)\r\n",
        "\r\n",
        "    cls = np.array([\"\" for i in range(out_shape1)])\r\n",
        "    dpt = np.array([str(i + 1) for i in range(out_shape1)])\r\n",
        "    out = np.vstack([cls, dpt, out])\r\n",
        "\r\n",
        "    ind = np.expand_dims(np.array([\"Classification\", \"Depth(pixels)\"] + [str(i + 1) for i in range(out_shape0)]), 1)\r\n",
        "    out1 = np.hstack([ind, out])\r\n",
        "\r\n",
        "    df = pd.DataFrame(out1)\r\n",
        "    df1 = pd.DataFrame(out[1:])\r\n",
        "\r\n",
        "    #Create an excel spreadsheet\r\n",
        "    #df.to_excel(os.path.join(out_dir, file + \".xlsx\"), header=False, index=False)\r\n",
        "\r\n",
        "    #Create graphs\r\n",
        "    df1 = df1.astype(float)\r\n",
        "\r\n",
        "\r\n",
        "    figure, axes = plt.subplots(1, 2)\r\n",
        "    axes[0].imshow(im)\r\n",
        "    df1.loc[:,len(df1.columns)/2].plot(ax=axes[1], legend = None)\r\n",
        "    #plt.show()\r\n",
        "\r\n",
        "    plt.savefig(str(file)[:-4]+'_fig.png')\r\n",
        "    os.remove(file)\r\n",
        "    cv2.destroyAllWindows()\r\n",
        "\r\n",
        "print(\"Complete\")\r\n",
        "\r\n"
      ],
      "execution_count": null,
      "outputs": []
    },
    {
      "cell_type": "markdown",
      "metadata": {
        "id": "lAZJMifGO1TW"
      },
      "source": [
        "# Create Video Out Of Brightness Profiles"
      ]
    },
    {
      "cell_type": "code",
      "metadata": {
        "id": "fAAjGyFYcQVS"
      },
      "source": [
        "import cv2\r\n",
        "import numpy as np\r\n",
        "\r\n",
        "img_array = []\r\n",
        "for filename in os.listdir(frame_dir):\r\n",
        "    img = cv2.imread(filename)\r\n",
        "    height, width, layers = img.shape\r\n",
        "    size = (width,height)\r\n",
        "    img_array.append(img)\r\n",
        "    os.remove(filename)\r\n",
        "    cv2.destroyAllWindows()\r\n",
        "\r\n",
        "out = cv2.VideoWriter(\"FINDME.mp4\",0x7634706d, 10, size)\r\n",
        " \r\n",
        "for i in range(len(img_array)):\r\n",
        "    out.write(img_array[i])\r\n",
        "out.release()"
      ],
      "execution_count": null,
      "outputs": []
    }
  ]
}